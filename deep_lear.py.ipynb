{
 "cells": [
  {
   "cell_type": "code",
   "execution_count": 1,
   "metadata": {
    "collapsed": false
   },
   "outputs": [],
   "source": [
    "%matplotlib inline\n",
    "from data_tools import *\n",
    "from algorithms import *\n",
    "from plot_lib import *\n",
    "import matplotlib.pyplot as plt\n",
    "# from nets import *\n",
    "from sklearn.model_selection import cross_val_score, StratifiedKFold, train_test_split\n",
    "from sklearn.feature_selection import RFE\n",
    "from sklearn import preprocessing\n",
    "import numpy as np\n",
    "import code \n",
    "import caffe\n",
    "import scipy as nd\n",
    "from caffe import layers as L\n",
    "from caffe import params as P\n",
    "import lmdb"
   ]
  },
  {
   "cell_type": "code",
   "execution_count": 2,
   "metadata": {
    "collapsed": false
   },
   "outputs": [
    {
     "name": "stdout",
     "output_type": "stream",
     "text": [
      "Splitting the data into train and test set.\n"
     ]
    }
   ],
   "source": [
    "print \"Splitting the data into train and test set.\""
   ]
  },
  {
   "cell_type": "code",
   "execution_count": 23,
   "metadata": {
    "collapsed": false
   },
   "outputs": [
    {
     "name": "stdout",
     "output_type": "stream",
     "text": [
      "Create Net-Architecture.\n",
      "Write train.prototxt\n",
      "Write test.prototxt\n"
     ]
    }
   ],
   "source": [
    "print \"Create Net-Architecture.\"\n",
    "def cnn(lmdb, batch_size):\n",
    "    n = caffe.NetSpec()\n",
    "    n.data, n.label = L.Data(batch_size=batch_size, backend=P.Data.LMDB, source=lmdb, transform_param=dict(scale=1./16293), ntop=2)\n",
    "    \n",
    "    n.conv1 = L.Convolution(n.data, kernel_size=5, num_output=20, weight_filler=dict(type='xavier'))\n",
    "    n.pool1 = L.Pooling(n.conv1, kernel_size=2, stride=2, pool=P.Pooling.MAX)\n",
    "    \n",
    "    n.conv2 = L.Convolution(n.pool1, kernel_size=5, num_output=50, weight_filler=dict(type='xavier'))\n",
    "    n.pool2 = L.Pooling(n.conv2, kernel_size=2, stride=2, pool=P.Pooling.MAX)\n",
    "    \n",
    "    n.ip1 = L.InnerProduct(n.pool2, num_output=500, weight_filler=dict(type='xavier'))\n",
    "    n.relu1 = L.ReLU(n.ip1, in_place=True)\n",
    "    \n",
    "    n.ip2 = L.InnerProduct(n.relu1, num_output=10, weight_filler=dict(type='xavier'))\n",
    "    n.loss = L.SoftmaxWithLoss(n.ip2, n.label)\n",
    "    return n.to_proto()\n",
    "\n",
    "def cnn2(lmdb, batch_size):\n",
    "    n = caffe.NetSpec()\n",
    "    n.data, n.label = L.Data(batch_size=batch_size, backend=P.Data.LMDB, source=lmdb, transform_param=dict(scale=1./16293), ntop=2)\n",
    "    \n",
    "    n.conv1 = L.Convolution(n.data, kernel_size=4, num_output=32, weight_filler=dict(type='xavier'))\n",
    "    n.relu1 = L.ReLU(n.conv1, in_place=True)\n",
    "    n.drop1 = L.Dropout(n.relu1,dropout_ratio=0.2)\n",
    "    n.pool1 = L.Pooling(n.drop1, kernel_size=2, stride=2, pool=P.Pooling.MAX)\n",
    "    \n",
    "    n.conv2 = L.Convolution(n.pool1, kernel_size=4, num_output=64, weight_filler=dict(type='xavier'))\n",
    "    n.relu2 = L.ReLU(n.conv2, in_place=True)\n",
    "    n.pool2 = L.Pooling(n.relu2, kernel_size=2, stride=2, pool=P.Pooling.MAX)\n",
    "    n.drop2 = L.Dropout(n.pool2, dropout_ratio=0.2)\n",
    "    \n",
    "    n.conv3 = L.Convolution(n.drop2, kernel_size=3, num_output=64, weight_filler=dict(type='xavier'))\n",
    "    n.relu3 = L.ReLU(n.conv3, in_place=True)\n",
    "    n.pool3 = L.Pooling(n.relu3, kernel_size=2, stride=2, pool=P.Pooling.MAX)\n",
    "    n.drop3 = L.Dropout(n.pool3, dropout_ratio=0.25)\n",
    "    \n",
    "    n.ip4 = L.InnerProduct(n.drop3, num_output=100, weight_filler=dict(type='xavier'))\n",
    "    n.relu4 = L.ReLU(n.ip4, in_place=True)\n",
    "    n.drop4 = L.Dropout(n.relu4,dropout_ratio=0.5)\n",
    "    \n",
    "    n.ip5 = L.InnerProduct(n.drop4, num_output=4, weight_filler=dict(type='xavier'))\n",
    "    n.loss = L.SoftmaxWithLoss(n.ip5, n.label)    \n",
    "    return n.to_proto()\n",
    "    \n",
    "\n",
    "print \"Write train.prototxt\"\n",
    "with open('ModelZoo/cell_net_1/train.prototxt', 'w') as f:\n",
    "    f.write(str(cnn2('/Volumes/MoritzBertholdHD/CellData/Experiments/Ex1/PreparedData/all_channels_80_80_full_no_zeros_in_cells', 64)))\n",
    "print \"Write test.prototxt\"\n",
    "with open('ModelZoo/cell_net_1/test.prototxt', 'w') as f:\n",
    "    f.write(str(cnn2('/Volumes/MoritzBertholdHD/CellData/Experiments/Ex2/PreparedData/all_channels_80_80_full_no_zeros_in_cells', 100)))"
   ]
  },
  {
   "cell_type": "code",
   "execution_count": 24,
   "metadata": {
    "collapsed": true
   },
   "outputs": [],
   "source": [
    "caffe.set_mode_cpu()"
   ]
  },
  {
   "cell_type": "code",
   "execution_count": 25,
   "metadata": {
    "collapsed": false
   },
   "outputs": [],
   "source": [
    "solver = None\n",
    "solver = caffe.get_solver('ModelZoo/cell_net_1/solver.prototxt')"
   ]
  },
  {
   "cell_type": "code",
   "execution_count": 26,
   "metadata": {
    "collapsed": false
   },
   "outputs": [
    {
     "name": "stdout",
     "output_type": "stream",
     "text": [
      "Layers' features:\n"
     ]
    },
    {
     "data": {
      "text/plain": [
       "[('data', (64, 4, 80, 80)),\n",
       " ('label', (64,)),\n",
       " ('conv1', (64, 32, 77, 77)),\n",
       " ('drop1', (64, 32, 77, 77)),\n",
       " ('pool1', (64, 32, 39, 39)),\n",
       " ('conv2', (64, 64, 36, 36)),\n",
       " ('pool2', (64, 64, 18, 18)),\n",
       " ('drop2', (64, 64, 18, 18)),\n",
       " ('conv3', (64, 64, 16, 16)),\n",
       " ('pool3', (64, 64, 8, 8)),\n",
       " ('drop3', (64, 64, 8, 8)),\n",
       " ('ip4', (64, 100)),\n",
       " ('drop4', (64, 100)),\n",
       " ('ip5', (64, 4)),\n",
       " ('loss', ())]"
      ]
     },
     "execution_count": 26,
     "metadata": {},
     "output_type": "execute_result"
    }
   ],
   "source": [
    "print\"Layers' features:\"\n",
    "[(k, v.data.shape) for k, v in solver.net.blobs.items()]"
   ]
  },
  {
   "cell_type": "code",
   "execution_count": 27,
   "metadata": {
    "collapsed": false
   },
   "outputs": [
    {
     "name": "stdout",
     "output_type": "stream",
     "text": [
      "Parameters and shape:\n"
     ]
    },
    {
     "data": {
      "text/plain": [
       "[('conv1', (32, 4, 4, 4)),\n",
       " ('conv2', (64, 32, 4, 4)),\n",
       " ('conv3', (64, 64, 3, 3)),\n",
       " ('ip4', (100, 4096)),\n",
       " ('ip5', (4, 100))]"
      ]
     },
     "execution_count": 27,
     "metadata": {},
     "output_type": "execute_result"
    }
   ],
   "source": [
    "print \"Parameters and shape:\"\n",
    "[(k, v[0].data.shape) for k, v in solver.net.params.items()]"
   ]
  },
  {
   "cell_type": "code",
   "execution_count": 28,
   "metadata": {
    "collapsed": false
   },
   "outputs": [
    {
     "data": {
      "text/plain": [
       "{'loss': array(1.386287808418274, dtype=float32)}"
      ]
     },
     "execution_count": 28,
     "metadata": {},
     "output_type": "execute_result"
    }
   ],
   "source": [
    "solver.net.forward()"
   ]
  },
  {
   "cell_type": "code",
   "execution_count": 29,
   "metadata": {
    "collapsed": false
   },
   "outputs": [
    {
     "data": {
      "text/plain": [
       "{'loss': array(1.3844592571258545, dtype=float32)}"
      ]
     },
     "execution_count": 29,
     "metadata": {},
     "output_type": "execute_result"
    }
   ],
   "source": [
    "solver.test_nets[0].forward()"
   ]
  },
  {
   "cell_type": "code",
   "execution_count": 30,
   "metadata": {
    "collapsed": false
   },
   "outputs": [
    {
     "data": {
      "text/plain": [
       "{}"
      ]
     },
     "execution_count": 30,
     "metadata": {},
     "output_type": "execute_result"
    }
   ],
   "source": [
    "solver.net.backward()"
   ]
  },
  {
   "cell_type": "code",
   "execution_count": null,
   "metadata": {
    "collapsed": true
   },
   "outputs": [],
   "source": [
    "solver.solve()\n"
   ]
  },
  {
   "cell_type": "code",
   "execution_count": null,
   "metadata": {
    "collapsed": true
   },
   "outputs": [],
   "source": []
  }
 ],
 "metadata": {
  "anaconda-cloud": {},
  "kernelspec": {
   "display_name": "Python [conda root]",
   "language": "python",
   "name": "conda-root-py"
  },
  "language_info": {
   "codemirror_mode": {
    "name": "ipython",
    "version": 2
   },
   "file_extension": ".py",
   "mimetype": "text/x-python",
   "name": "python",
   "nbconvert_exporter": "python",
   "pygments_lexer": "ipython2",
   "version": "2.7.12"
  }
 },
 "nbformat": 4,
 "nbformat_minor": 2
}
